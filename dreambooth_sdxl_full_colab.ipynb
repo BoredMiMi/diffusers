{
  "cells": [
    {
      "cell_type": "markdown",
      "metadata": {},
      "source": "# DreamBooth SDXL\u00a01.0 \u2013 full\u2011model fine\u2011tune with a custom style token `<kmk>`\nThis Colab notebook sets up everything (dependencies, data folders, script, training and inference) to train a **full Stable Diffusion\u00a0XL model** using DreamBooth. It is optimised for a single **NVIDIA\u00a0A100** GPU (40\u201180\u202fGB)."
    },
    {
      "cell_type": "code",
      "metadata": {},
      "source": "\n# \u2699\ufe0f Runtime check\nimport torch, os, platform\nprint(\"\ud83d\udd0b CUDA available:\", torch.cuda.is_available())\nif torch.cuda.is_available():\n    print(\"\ud83d\udda5\ufe0f  GPU:\", torch.cuda.get_device_name(0))\nassert torch.cuda.is_available(), \"\u274c  Please switch Colab to: Runtime \u25b8 Change runtime type \u25b8 GPU (A100 preferred)\"\n",
      "outputs": [],
      "execution_count": null
    },
    {
      "cell_type": "code",
      "metadata": {},
      "source": "\n# \ud83d\udee0 Install / upgrade dependencies\n!pip -q install --upgrade diffusers[torch] transformers accelerate bitsandbytes xformers --progress-bar off\n",
      "outputs": [],
      "execution_count": null
    },
    {
      "cell_type": "code",
      "metadata": {},
      "source": "\n# \ud83d\udd11 Hugging Face token (skip if model is public)\nfrom getpass import getpass\nHF_TOKEN = \"\"  # <-- paste your HF token if needed\nif HF_TOKEN:\n    from huggingface_hub import login\n    login(HF_TOKEN, add_to_git_credential=True)\n",
      "outputs": [],
      "execution_count": null
    },
    {
      "cell_type": "code",
      "metadata": {},
      "source": "\n# \ud83d\udcc2 Mount Google Drive (optional, keeps checkpoints)\nfrom google.colab import drive\ndrive.mount('/content/drive', force_remount=True)\nOUTPUT_DIR = \"/content/drive/MyDrive/sdxl-dreambooth-kmk\"  # change if desired\n",
      "outputs": [],
      "execution_count": null
    },
    {
      "cell_type": "code",
      "metadata": {},
      "source": "\n# \ud83d\uddbc Upload instance images\nINSTANCE_DIR = \"/content/instance_imgs\"\n!mkdir -p $INSTANCE_DIR\nprint(f\"\u2705  Upload 5\u201120 images into {INSTANCE_DIR} via the left sidebar (folder icon).\")\n",
      "outputs": [],
      "execution_count": null
    },
    {
      "cell_type": "code",
      "metadata": {},
      "source": "\n# \ud83d\udcdd Write train_dreambooth_sdxl_full_kmk.py\nSCRIPT_PATH = \"train_dreambooth_sdxl_full_kmk.py\"\nscript_text = \"\"\"# Paste the full script content provided in the companion ChatGPT answer here.\n# Make sure it starts with: #!/usr/bin/env python\n# and ends with: if __name__ == \"__main__\": ...\n\"\"\"\nwith open(SCRIPT_PATH, \"w\") as f:\n    f.write(script_text)\nprint(\"\u270f\ufe0f  Edit the cell to insert the full training script or upload it to Colab.\")\n",
      "outputs": [],
      "execution_count": null
    },
    {
      "cell_type": "code",
      "metadata": {},
      "source": "\n# \u26a1\ufe0f Generate accelerate default config\n!accelerate config default\n",
      "outputs": [],
      "execution_count": null
    },
    {
      "cell_type": "code",
      "metadata": {},
      "source": "\n# \ud83d\ude80 Start DreamBooth training\n!accelerate launch train_dreambooth_sdxl_full_kmk.py \\\n  --pretrained_model_name_or_path stabilityai/stable-diffusion-xl-base-1.0 \\\n  --instance_data_dir $INSTANCE_DIR \\\n  --instance_prompt \"a <kmk> style portrait of a corgi\" \\\n  --resolution 1024 \\\n  --train_batch_size 1 \\\n  --learning_rate 1e-5 \\\n  --gradient_checkpointing \\\n  --mixed_precision bf16 \\\n  --max_train_steps 1200 \\\n  --output_dir $OUTPUT_DIR\n",
      "outputs": [],
      "execution_count": null
    },
    {
      "cell_type": "code",
      "metadata": {},
      "source": "\n# \u2705 Inference after training\nfrom diffusers import StableDiffusionXLPipeline\nimport torch, matplotlib.pyplot as plt\n\npipe = StableDiffusionXLPipeline.from_pretrained(OUTPUT_DIR, torch_dtype=torch.bfloat16).to(\"cuda\")\nprompt = \"a <kmk> style portrait of a Shiba Inu, sharp focus, 8k\"\nwith torch.cuda.amp.autocast(\"cuda\", dtype=torch.bfloat16):\n    img = pipe(prompt, num_inference_steps=25).images[0]\nplt.imshow(img); plt.axis(\"off\")\n",
      "outputs": [],
      "execution_count": null
    }
  ],
  "metadata": {
    "kernelspec": {
      "display_name": "Python 3",
      "language": "python",
      "name": "python3"
    },
    "language_info": {
      "name": "python",
      "version": "3.11.8"
    },
    "colab": {
      "name": "DreamBooth SDXL Full <kmk>",
      "provenance": []
    }
  },
  "nbformat": 4,
  "nbformat_minor": 4
}
